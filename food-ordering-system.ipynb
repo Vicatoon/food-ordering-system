{
 "cells": [
  {
   "cell_type": "code",
   "execution_count": 10,
   "id": "a23fe43b",
   "metadata": {},
   "outputs": [],
   "source": [
    "#Prints the menu options for the food items available in the ordering app.\n",
    "# since the app only has 3 food items you can order, add a fourth option to exit the menu when they are done ordering.\n",
    " \n",
    "def display_menu():\n",
    "    print(\"Menu:\")\n",
    "    print(\"1. Pizza - 6500\")\n",
    "    print(\"2. Burger - 3000\")\n",
    "    print(\"3. Noodles - 1300\")\n",
    "    print(\"4. Exit Menu\")"
   ]
  },
  {
   "cell_type": "code",
   "execution_count": 11,
   "id": "c0d90f46",
   "metadata": {},
   "outputs": [],
   "source": [
    "# Define a function that takes user input to get the number corresponding to the chosen food item from the menu.\n",
    "def get_user_choice():\n",
    "        # Calling the display_menu function so the user can see what to select from\n",
    "    display_menu()\n",
    "    \n",
    "    #use the while to run a loop that breaks only when a number is returned\n",
    "    while True:\n",
    "        \n",
    "        #Use Try and Except to handle the error by calling the code again if user does not input a digit\n",
    "        try:\n",
    "            \n",
    "            #take user input and convert the digit to an integer \n",
    "            user_choice = int(input('Choose a number between 1 and 3 to select a food of your choice, or select 4 to exit menu: '))\n",
    "            \n",
    "            if user_choice in [1,2,3,4]:\n",
    "                \n",
    "                # This returns nothing if the user chooses 4\n",
    "                if int(user_choice) == 4:\n",
    "                    print('Exit Menu')\n",
    "                    return None\n",
    "                else:\n",
    "                    return user_choice\n",
    "            else: \n",
    "                print('Invalid choice. Please enter a number between 1 and 4.') \n",
    "                \n",
    "        except:    \n",
    "            print('Invalid input. Please enter a valid number.') "
   ]
  },
  {
   "cell_type": "code",
   "execution_count": 12,
   "id": "a94d8b24",
   "metadata": {},
   "outputs": [],
   "source": [
    "# Define a function Takes user input to get the quantity of the selected food item and ensures the input is a positive integer.            \n",
    "def get_quantity():\n",
    "    quantity= 'Wrong'\n",
    "    user_quantity = False\n",
    "    \n",
    "    while quantity.isdigit()== False or user_quantity == False:\n",
    "        quantity = input( 'How many do you want:')\n",
    "        \n",
    "        # If the input is not an integer return the error 'Invalid input. Please enter a valid number.' \n",
    "        if quantity.isdigit()== False:\n",
    "            print('Invalid input. Please enter a valid number.') \n",
    "            \n",
    "        #If the input is a negative integer or zero return the error 'Quantity must be greater than 0.'\n",
    "        else:\n",
    "            if int(quantity) > 0:\n",
    "                user_quantity = True\n",
    "            else:\n",
    "                print ('Quantity must be greater than 0')\n",
    "                user_quantity = False\n",
    "    return int(quantity)"
   ]
  },
  {
   "cell_type": "code",
   "execution_count": 13,
   "id": "ca6a8b3f",
   "metadata": {},
   "outputs": [],
   "source": [
    "# Define a function that Retrieves and returns the name of a food item based on the user's choice number from the menu.\n",
    "\n",
    "def get_item_name(choice):\n",
    "    if choice == 1:\n",
    "        item_name = 'Pizza'\n",
    "        return item_name\n",
    "    elif choice == 2:\n",
    "        item_name = 'Burger'\n",
    "        return item_name\n",
    "    else:\n",
    "        choice == 3\n",
    "        item_name = 'Noodles'\n",
    "        return item_name"
   ]
  },
  {
   "cell_type": "code",
   "execution_count": 14,
   "id": "8b132407",
   "metadata": {},
   "outputs": [],
   "source": [
    "# Function that Retrieves and returns the price of a food item based on the user's choice number from the menu.\n",
    "def get_item_price(choice):\n",
    "    if choice == 1:\n",
    "        item_price = 6500\n",
    "        return item_price\n",
    "    elif choice == 2:\n",
    "        item_price = 3000\n",
    "        return item_price\n",
    "    else:\n",
    "        choice == 3\n",
    "        item_price = 1300\n",
    "        return item_price"
   ]
  },
  {
   "cell_type": "code",
   "execution_count": 15,
   "id": "f8650ebb",
   "metadata": {},
   "outputs": [],
   "source": [
    "#Calculates and returns the total price of a specific food item based on its price and the quantity ordered.\n",
    "def calculate_total_price(item_price, quantity):\n",
    "    total_price = item_price * quantity\n",
    "    return total_price"
   ]
  },
  {
   "cell_type": "code",
   "execution_count": 16,
   "id": "25a1f25d",
   "metadata": {},
   "outputs": [],
   "source": [
    "# This function manages the process of adding items to a shopping cart, using a dictionary for the Cart.\n",
    "#Also calls other functions to get user choices, quantities, and calculates total prices.\n",
    "\n",
    "def place_order():\n",
    "    from IPython.display import clear_output\n",
    "\n",
    "    cart ={}\n",
    "    while True:\n",
    "      \n",
    "        user_choice = get_user_choice()\n",
    "        if user_choice is None:\n",
    "            break\n",
    "        else:\n",
    "            item_name = get_item_name(user_choice)\n",
    "            item_quantity = get_quantity()\n",
    "            item_price= get_item_price(user_choice) \n",
    "            total_price = calculate_total_price(item_price, item_quantity)     \n",
    "            if item_name in cart:\n",
    "                cart[item_name]['quantity']+= item_quantity\n",
    "                cart[item_name]['total_price']+= total_price        \n",
    "            else:\n",
    "                cart[item_name]={'quantity': item_quantity, 'total_price': total_price}     \n",
    "            \n",
    "        while True:\n",
    "                \n",
    "            cont_Buy = input('''\n",
    "                    Do you want to buy more food?\n",
    "                    Yes or No\n",
    "                    ''').strip().lower()\n",
    "            if cont_Buy not in ['yes', 'no']:\n",
    "                print('Answer must be either Yes or No')\n",
    "                continue\n",
    "            else:\n",
    "                 break\n",
    "        if cont_Buy == 'yes':\n",
    "            clear_output()\n",
    "            continue\n",
    "        else:\n",
    "            break\n",
    "          \n",
    "    return cart"
   ]
  },
  {
   "cell_type": "code",
   "execution_count": 17,
   "id": "f1fd8f9f",
   "metadata": {},
   "outputs": [],
   "source": [
    "# Finalizes the order by displaying the contents of the shopping cart, including quantities and total prices. Prints the total order price like a receipt.\n",
    "def check_out(cart):\n",
    "        #If cart is empty, reciept would look like this \"Your cart is empty. No items to check out\".\n",
    "    if not cart:\n",
    "        print('Your cart is empty. No items to check out.')\n",
    "        return None\n",
    "    else:\n",
    "        print('Checking out...')\n",
    "        print('Your order details:')\n",
    "        for item, details in cart.items():\n",
    "            print(f\"{item}: Quantity - {details['quantity']}, Total Price - ${details['total_price']}\") \n",
    "            \n",
    "    total_order_price= sum(price['total_price'] for price in cart.values())\n",
    "        \n",
    "    print(f'Total Order Price: ${total_order_price}')\n",
    "    print('Thank you for ordering!')"
   ]
  },
  {
   "cell_type": "code",
   "execution_count": 18,
   "id": "384a3a96",
   "metadata": {},
   "outputs": [],
   "source": [
    "# Create the main function that initiates the food ordering application.\n",
    "#Calls place_order() to build the shopping cart and then calls check_out() to complete the order.\n",
    "def food_ordering_app():\n",
    "    print(\"Welcome to the Food Ordering App!\")\n",
    "    cart = place_order()\n",
    "    check_out(cart)"
   ]
  },
  {
   "cell_type": "code",
   "execution_count": 19,
   "id": "ed067620",
   "metadata": {},
   "outputs": [
    {
     "name": "stdout",
     "output_type": "stream",
     "text": [
      "Menu:\n",
      "1. Pizza - 6500\n",
      "2. Burger - 3000\n",
      "3. Noodles - 1300\n",
      "4. Exit Menu\n",
      "Choose a number between 1 and 3 to select a food of your choice, or select 4 to exit menu: 3\n",
      "How many do you want:4\n",
      "\n",
      "                    Do you want to buy more food?\n",
      "                    Yes or No\n",
      "                    no\n",
      "Checking out...\n",
      "Your order details:\n",
      "Pizza: Quantity - 2, Total Price - $13000\n",
      "Noodles: Quantity - 4, Total Price - $5200\n",
      "Total Order Price: $18200\n",
      "Thank you for ordering!\n"
     ]
    }
   ],
   "source": [
    "food_ordering_app()"
   ]
  },
  {
   "cell_type": "code",
   "execution_count": null,
   "id": "ce9415f5",
   "metadata": {},
   "outputs": [],
   "source": []
  }
 ],
 "metadata": {
  "kernelspec": {
   "display_name": "Python 3 (ipykernel)",
   "language": "python",
   "name": "python3"
  },
  "language_info": {
   "codemirror_mode": {
    "name": "ipython",
    "version": 3
   },
   "file_extension": ".py",
   "mimetype": "text/x-python",
   "name": "python",
   "nbconvert_exporter": "python",
   "pygments_lexer": "ipython3",
   "version": "3.11.5"
  }
 },
 "nbformat": 4,
 "nbformat_minor": 5
}
